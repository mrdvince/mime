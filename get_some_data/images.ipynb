{
 "cells": [
  {
   "cell_type": "code",
   "execution_count": 1,
   "id": "8ab1be89",
   "metadata": {},
   "outputs": [
    {
     "name": "stderr",
     "output_type": "stream",
     "text": [
      "c:\\tools\\miniconda3\\lib\\site-packages\\fastprogress\\fastprogress.py:102: UserWarning: Couldn't import ipywidgets properly, progress bar will use console behavior\n",
      "  warn(\"Couldn't import ipywidgets properly, progress bar will use console behavior\")\n"
     ]
    }
   ],
   "source": [
    "from jmd_imagescraper.core import *  # dont't worry, it's designed to work with import *\n",
    "from pathlib import Path\n",
    "\n",
    "root = Path().cwd() / \"images\""
   ]
  },
  {
   "cell_type": "code",
   "execution_count": 2,
   "id": "293ad205",
   "metadata": {},
   "outputs": [],
   "source": [
    "?duckduckgo_search"
   ]
  },
  {
   "cell_type": "code",
   "execution_count": null,
   "id": "c0a823a4",
   "metadata": {},
   "outputs": [],
   "source": [
    "# Class names include:\n",
    "# - Potholes\n",
    "# - Dumping/Littering\n",
    "# - Accidents\n",
    "# - Flooded roads\n",
    "# - Bad drainages"
   ]
  },
  {
   "cell_type": "code",
   "execution_count": 9,
   "id": "b32a9520",
   "metadata": {},
   "outputs": [],
   "source": [
    "mime = {\n",
    "    'Potholes':'road potholes',\n",
    "    'Dumping':'dump sites littering',\n",
    "    'Accidents':'road accident',\n",
    "    'Flooded':'flooded roads', \n",
    "    'Bad drainage':'bad drainages roads',\n",
    "    \"Construction\", \"Road under construction, construction sites\",\n",
    "}\n",
    "for key, value in mime.items():\n",
    "    duckduckgo_search(root, key, value, max_results=120)"
   ]
  },
  {
   "cell_type": "code",
   "execution_count": 12,
   "id": "9d975c69",
   "metadata": {},
   "outputs": [
    {
     "data": {
      "application/vnd.jupyter.widget-view+json": {
       "model_id": "a2675bb1ae14427190d59815c49f76fe",
       "version_major": 2,
       "version_minor": 0
      },
      "text/plain": [
       "HBox(children=(Button(description='|<<', layout=Layout(width='60px'), style=ButtonStyle()), Button(description…"
      ]
     },
     "metadata": {},
     "output_type": "display_data"
    },
    {
     "data": {
      "application/vnd.jupyter.widget-view+json": {
       "model_id": "d3d4725f50294ada990bca98aad24056",
       "version_major": 2,
       "version_minor": 0
      },
      "text/plain": [
       "HTML(value='<h2>No images left to display in this folder.</h2>', layout=Layout(visibility='hidden'))"
      ]
     },
     "metadata": {},
     "output_type": "display_data"
    },
    {
     "data": {
      "application/vnd.jupyter.widget-view+json": {
       "model_id": "4a8090f8da4648538443939bf61d60f9",
       "version_major": 2,
       "version_minor": 0
      },
      "text/plain": [
       "GridBox(children=(VBox(children=(Image(value=b'', layout=\"Layout(width='150px')\"), Button(description='Delete'…"
      ]
     },
     "metadata": {},
     "output_type": "display_data"
    }
   ],
   "source": [
    "from jmd_imagescraper.imagecleaner import *\n",
    "\n",
    "display_image_cleaner(root)"
   ]
  },
  {
   "cell_type": "code",
   "execution_count": null,
   "id": "8e1e705a",
   "metadata": {},
   "outputs": [],
   "source": []
  }
 ],
 "metadata": {
  "kernelspec": {
   "display_name": "Python 3 (ipykernel)",
   "language": "python",
   "name": "python3"
  },
  "language_info": {
   "codemirror_mode": {
    "name": "ipython",
    "version": 3
   },
   "file_extension": ".py",
   "mimetype": "text/x-python",
   "name": "python",
   "nbconvert_exporter": "python",
   "pygments_lexer": "ipython3",
   "version": "3.9.5"
  }
 },
 "nbformat": 4,
 "nbformat_minor": 5
}
